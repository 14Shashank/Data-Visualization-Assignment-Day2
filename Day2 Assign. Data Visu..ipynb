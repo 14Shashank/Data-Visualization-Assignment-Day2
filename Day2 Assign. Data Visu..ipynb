{
 "cells": [
  {
   "cell_type": "code",
   "execution_count": 1,
   "metadata": {},
   "outputs": [],
   "source": [
    "import matplotlib.pyplot as plt\n",
    "import numpy as np\n",
    "import pandas as pd\n",
    "%matplotlib inline\n",
    "import seaborn as sns\n",
    "from numpy.random import randn, randint, uniform, sample"
   ]
  },
  {
   "cell_type": "code",
   "execution_count": 6,
   "metadata": {},
   "outputs": [
    {
     "data": {
      "text/html": [
       "<div>\n",
       "<style scoped>\n",
       "    .dataframe tbody tr th:only-of-type {\n",
       "        vertical-align: middle;\n",
       "    }\n",
       "\n",
       "    .dataframe tbody tr th {\n",
       "        vertical-align: top;\n",
       "    }\n",
       "\n",
       "    .dataframe thead th {\n",
       "        text-align: right;\n",
       "    }\n",
       "</style>\n",
       "<table border=\"1\" class=\"dataframe\">\n",
       "  <thead>\n",
       "    <tr style=\"text-align: right;\">\n",
       "      <th></th>\n",
       "      <th>a</th>\n",
       "      <th>b</th>\n",
       "      <th>c</th>\n",
       "      <th>d</th>\n",
       "    </tr>\n",
       "  </thead>\n",
       "  <tbody>\n",
       "    <tr>\n",
       "      <th>0</th>\n",
       "      <td>-0.561454</td>\n",
       "      <td>-0.696791</td>\n",
       "      <td>-0.616695</td>\n",
       "      <td>-0.611396</td>\n",
       "    </tr>\n",
       "    <tr>\n",
       "      <th>1</th>\n",
       "      <td>-1.497638</td>\n",
       "      <td>-0.411704</td>\n",
       "      <td>-0.426281</td>\n",
       "      <td>1.173656</td>\n",
       "    </tr>\n",
       "    <tr>\n",
       "      <th>2</th>\n",
       "      <td>-1.240607</td>\n",
       "      <td>1.974475</td>\n",
       "      <td>-1.399211</td>\n",
       "      <td>-0.545339</td>\n",
       "    </tr>\n",
       "    <tr>\n",
       "      <th>3</th>\n",
       "      <td>0.274121</td>\n",
       "      <td>-0.925038</td>\n",
       "      <td>-0.960204</td>\n",
       "      <td>0.465945</td>\n",
       "    </tr>\n",
       "    <tr>\n",
       "      <th>4</th>\n",
       "      <td>0.102224</td>\n",
       "      <td>0.008209</td>\n",
       "      <td>0.117956</td>\n",
       "      <td>-1.443881</td>\n",
       "    </tr>\n",
       "    <tr>\n",
       "      <th>5</th>\n",
       "      <td>0.534339</td>\n",
       "      <td>-1.604152</td>\n",
       "      <td>-0.285551</td>\n",
       "      <td>1.146006</td>\n",
       "    </tr>\n",
       "    <tr>\n",
       "      <th>6</th>\n",
       "      <td>1.100337</td>\n",
       "      <td>0.421703</td>\n",
       "      <td>0.220231</td>\n",
       "      <td>0.375790</td>\n",
       "    </tr>\n",
       "    <tr>\n",
       "      <th>7</th>\n",
       "      <td>-1.322652</td>\n",
       "      <td>1.625693</td>\n",
       "      <td>-0.827716</td>\n",
       "      <td>0.599122</td>\n",
       "    </tr>\n",
       "    <tr>\n",
       "      <th>8</th>\n",
       "      <td>-0.458622</td>\n",
       "      <td>-0.798660</td>\n",
       "      <td>-0.161456</td>\n",
       "      <td>-1.199146</td>\n",
       "    </tr>\n",
       "    <tr>\n",
       "      <th>9</th>\n",
       "      <td>0.744220</td>\n",
       "      <td>-1.269084</td>\n",
       "      <td>-1.528975</td>\n",
       "      <td>0.702405</td>\n",
       "    </tr>\n",
       "  </tbody>\n",
       "</table>\n",
       "</div>"
      ],
      "text/plain": [
       "          a         b         c         d\n",
       "0 -0.561454 -0.696791 -0.616695 -0.611396\n",
       "1 -1.497638 -0.411704 -0.426281  1.173656\n",
       "2 -1.240607  1.974475 -1.399211 -0.545339\n",
       "3  0.274121 -0.925038 -0.960204  0.465945\n",
       "4  0.102224  0.008209  0.117956 -1.443881\n",
       "5  0.534339 -1.604152 -0.285551  1.146006\n",
       "6  1.100337  0.421703  0.220231  0.375790\n",
       "7 -1.322652  1.625693 -0.827716  0.599122\n",
       "8 -0.458622 -0.798660 -0.161456 -1.199146\n",
       "9  0.744220 -1.269084 -1.528975  0.702405"
      ]
     },
     "execution_count": 6,
     "metadata": {},
     "output_type": "execute_result"
    }
   ],
   "source": [
    "df=pd.DataFrame(randn(10,4), columns=['a','b','c','d'])\n",
    "df"
   ]
  },
  {
   "cell_type": "code",
   "execution_count": 7,
   "metadata": {},
   "outputs": [
    {
     "data": {
      "text/plain": [
       "<matplotlib.axes._subplots.AxesSubplot at 0x1c51dda0d88>"
      ]
     },
     "execution_count": 7,
     "metadata": {},
     "output_type": "execute_result"
    },
    {
     "data": {
      "image/png": "[encoded data removed]",
      "text/plain": [
       "<Figure size 360x360 with 1 Axes>"
      ]
     },
     "metadata": {
      "needs_background": "light"
     },
     "output_type": "display_data"
    }
   ],
   "source": [
    "df.plot(kind='bar',title='Bar Chart',figsize=(5,5),grid=True,legend = True)\n"
   ]
  },
  {
   "cell_type": "code",
   "execution_count": null,
   "metadata": {},
   "outputs": [],
   "source": []
  },
  {
   "cell_type": "code",
   "execution_count": null,
   "metadata": {},
   "outputs": [],
   "source": []
  }
 ],
 "metadata": {
  "kernelspec": {
   "display_name": "Python 3",
   "language": "python",
   "name": "python3"
  },
  "language_info": {
   "codemirror_mode": {
    "name": "ipython",
    "version": 3
   },
   "file_extension": ".py",
   "mimetype": "text/x-python",
   "name": "python",
   "nbconvert_exporter": "python",
   "pygments_lexer": "ipython3",
   "version": "3.7.6"
  }
 },
 "nbformat": 4,
 "nbformat_minor": 4
}
